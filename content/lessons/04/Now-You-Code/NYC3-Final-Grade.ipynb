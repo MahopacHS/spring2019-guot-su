{
  "cells": [
    {
      "metadata": {},
      "cell_type": "markdown",
      "source": "# Now You Code 3: Final Grade in IST256\n\n# Part 1\n\nOur Course Syllabus has a grading scale here:\n\nhttp://ist256.syr.edu/syllabus/#grading-scale\n\nWrite a Python program to input a number of points earned out of 600 and then\noutputs the registrar letter grade. \n\nFor example:\n\n    IST256 Grade Calculator\n    Enter total points out of 600:  550\n    Grade: A- \n"
    },
    {
      "metadata": {
        "collapsed": true
      },
      "cell_type": "markdown",
      "source": "## Step 1: Problem Analysis\n\nInputs:\n\nOutputs:\n\nAlgorithm (Steps in Program):\n\n\n"
    },
    {
      "metadata": {
        "trusted": true
      },
      "cell_type": "code",
      "source": "grade = int(input(\"enter a grade:\"))\nif grade >= 570:\n    reg = 'A'\nelif grade >= 540 and grade <= 569:\n    reg = 'A-'\nelif grade >= 510 and grade <= 539:\n    reg = 'B+'\nelif grade >= 480 and grade <= 509:\n    reg = \"B\" \nelif grade >= 450 and grade <= 479:\n    reg = 'B-'\nelif grade >= 420 and grade <= 449:\n    reg = 'C+'\nelif grade >= 390 and grade <= 419:\n    reg = 'C'\nelif grade >= 360 and grade <= 389:\n    reg = 'C-'\nelif grade >= 300 and grade <= 359:\n    reg = 'D'\nelse:\n    grade >= 0 and grade <= 299\n    reg = 'F'\n##############################################\nif reg == 'A' or reg == 'A-':\n    achievement = 'Mastery'\nelif reg == 'B+' or reg == 'B' or reg == 'B-':\n    achievement = 'Satisfactory'\nelif reg == 'C+' or reg == 'C' or reg == 'C-':\n    achievement = 'Low Passing' \nelse:\n    reg == 'D' or reg == 'F'\n    achievement = 'Unsatisfactory'\n#################################\nprint(grade)\nprint(reg)\nprint(achievement)",
      "execution_count": 18,
      "outputs": [
        {
          "output_type": "stream",
          "name": "stdout",
          "text": "enter a grade:-999\n-999\nF\nUnsatisfactory\n"
        }
      ]
    },
    {
      "metadata": {},
      "cell_type": "markdown",
      "source": "# Part 2\n\nNow that you got it working,  re-write your code to handle bad input. Specifically:\n\n\n- non integer values\n- integer values outside the 0 to 600 range.\n\n**Note:** Exception handling is not part of our algorithm. It's a programming concern, not a problem-solving concern!"
    },
    {
      "metadata": {
        "trusted": true
      },
      "cell_type": "code",
      "source": "grade = input(\"enter grade \")\nif grade.isdigit() and int(grade) <=600:\n    grade = int(grade)\n    if grade >= 570 :\n        reg = 'A'\n    elif grade >= 540 and grade <= 569:\n        reg = 'A-'\n    elif grade >= 510 and grade <= 539:\n        reg = 'B+'\n    elif grade >= 480 and grade <= 509:\n        reg = \"B\" \n    elif grade >= 450 and grade <= 479:\n        reg = 'B-'\n    elif grade >= 420 and grade <= 449:\n        reg = 'C+'\n    elif grade >= 390 and grade <= 419:\n        reg = 'C'\n    elif grade >= 360 and grade <= 389:\n        reg = 'C-'\n    elif grade >= 300 and grade <= 359:\n        reg = 'D'\n    else:\n        grade > -1 and grade <= 299\n        reg = 'F'       \n########################################### \n    if reg == 'A' or reg == 'A-':\n        achievement = 'Mastery'\n    elif reg == 'B+' or reg == 'B' or reg == 'B-':\n        achievement = 'Satisfactory'\n    elif reg == 'C+' or reg == 'C' or reg == 'C-':\n        achievement = 'Low Passing' \n    else:\n        reg == 'D' or reg == 'F'\n        achievement = 'Unsatisfactory'\n#################################################\n    print(grade)\n    print(reg)\n    print(achievement)\nelse:\n    print(\"ya done fucked up\")",
      "execution_count": 39,
      "outputs": [
        {
          "output_type": "stream",
          "name": "stdout",
          "text": "enter grade sdfg\nya done fucked up\n"
        }
      ]
    },
    {
      "metadata": {},
      "cell_type": "markdown",
      "source": "## Step 3: Questions\n\n1. What specific Python Error are we handling (please provide the name of it)?\nindex error\n2. How many times must you execute this program and check the output before you canbe reasonably assured your code is correct? Explain.\nat least three time so you can multiple scenarios\n3. When testing this program do you think its more important to test numbers in the middle of the grade range or exactly on the boundary between one grade range and the next. Justify your response.\ntest both in the middle of the grade range and extremities so you can see if the program is handling all cases"
    },
    {
      "metadata": {},
      "cell_type": "markdown",
      "source": "## Reminder of Evaluation Criteria\n\n1. What the problem attempted (analysis, code, and answered questions) ?\n2. What the problem analysis thought out? (does the program match the plan?)\n3. Does the code execute without syntax error?\n4. Does the code solve the intended problem?\n5. Is the code well written? (easy to understand, modular, and self-documenting, handles errors)\n"
    }
  ],
  "metadata": {
    "anaconda-cloud": {},
    "kernelspec": {
      "name": "python3",
      "display_name": "Python 3",
      "language": "python"
    },
    "language_info": {
      "mimetype": "text/x-python",
      "nbconvert_exporter": "python",
      "name": "python",
      "file_extension": ".py",
      "version": "3.5.4",
      "pygments_lexer": "ipython3",
      "codemirror_mode": {
        "version": 3,
        "name": "ipython"
      }
    }
  },
  "nbformat": 4,
  "nbformat_minor": 1
}