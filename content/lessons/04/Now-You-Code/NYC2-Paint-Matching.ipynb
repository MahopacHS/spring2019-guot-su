{
  "cells": [
    {
      "metadata": {},
      "cell_type": "markdown",
      "source": "# Now You Code 2: Paint Pricing\n\nHouse Depot, a big-box hardware retailer, has contracted you to create an app to calculate paint prices. \n\nThe price of paint is determined by the following factors:\n- Everyday quality paint is `$19.99` per gallon.\n- Select quality paint is `$24.99` per gallon.\n- Premium quality paint is `$32.99` per gallon.\n\nIn addition if the customer wants computerized color-matching that incurs an additional fee of `$4.99` per gallon. \n\nWrite a program to ask the user to select a paint quality: 'everyday', 'select' or 'premium' and then whether they need color matching and then outputs the price per gallon of the paint.\n\nExample Run 1:\n\n```\nWhich paint quality do you require ['everyday', 'select', 'premium'] ?select\nDo you require color matching [y/n] ?y\nTotal price of select paint with color matching is $29.98\n```\n\nExample Run 2:\n\n```\nWhich paint quality do you require ['everyday', 'select', 'premium'] ?premium\nDo you require color matching [y/n] ?n\nTotal price of premium paint without color matching is $32.99\n```"
    },
    {
      "metadata": {
        "collapsed": true
      },
      "cell_type": "markdown",
      "source": "## Step 1: Problem Analysis\n\nInputs:\n\nOutputs:\n\nAlgorithm (Steps in Program):\n\n"
    },
    {
      "metadata": {
        "trusted": true
      },
      "cell_type": "code",
      "source": "try:\n    quality=input(\"select paint quality:everyday, select, premium \")\n    if quality==(\"everyday\"):\n        paint=float(19.99)\n    elif quality==(\"select\"):\n        paint = float(24.99)\n    else:\n        quality == (\"premium\")\n        paint = float(32.99)\n#########################################################\n    match = input(\"do you require color matching? \")\n    if match==(\"yes\") or match==(\"y\") or match==(\"Yes\") or match==(\"Y\"):\n        mc=float(4.99)\n    else:\n        match==(\"no\") or match==(\"n\") or match==(\"No\") or match==(\"N\")\n        mc=float(0)\n#############################################################\n    bill = paint + mc\n    if match==(\"yes\") or match==(\"y\") or match==(\"Yes\") or match==(\"Y\"):\n        print(\"your purchase includes\",quality,'paint and color matching. your bill comes out to be $%.2f' % (bill))\n    else:\n        match==(\"no\") or match==(\"n\") or match==(\"No\") or match==(\"N\")\n        print(\"your purchase includes\",quality,'your bill comes out to be $%.2f' % (bill))\n\nexcept:\n    print(\"you're a failure at buying paint or inputting an answer\")",
      "execution_count": 1,
      "outputs": [
        {
          "output_type": "stream",
          "name": "stdout",
          "text": "select paint quality:everyday, select, premium everyday\ndo you require color matching? yes\nyour purchase includes everyday paint and color matching. your bill comes out to be $24.98\n"
        }
      ]
    },
    {
      "metadata": {},
      "cell_type": "markdown",
      "source": "## Step 3: Questions\n\n1. When you enter something other than `'everyday', 'select',` or  `'premium'` what happens? Modify the program to print `that is not a paint quality` and then exit in those cases.\n2. What happens when you enter something other than `'y'` or `'n'` for color matching? Re-write the program to print `you must enter y or n` whenever you enter something other than those two values.\n3. Why can't we use Python's `try...except` in this example?\n4. How many times (at minimum) must we execute this program and check the results before we can be reasonably assured it is correct?\n"
    },
    {
      "metadata": {},
      "cell_type": "markdown",
      "source": "## Reminder of Evaluation Criteria\n\n1. What the problem attempted (analysis, code, and answered questions) ?\n2. What the problem analysis thought out? (does the program match the plan?)\n3. Does the code execute without syntax error?\n4. Does the code solve the intended problem?\n5. Is the code well written? (easy to understand, modular, and self-documenting, handles errors)\n"
    },
    {
      "metadata": {
        "collapsed": true,
        "trusted": false
      },
      "cell_type": "code",
      "source": "",
      "execution_count": null,
      "outputs": []
    }
  ],
  "metadata": {
    "anaconda-cloud": {},
    "kernelspec": {
      "name": "python3",
      "display_name": "Python 3",
      "language": "python"
    },
    "language_info": {
      "mimetype": "text/x-python",
      "nbconvert_exporter": "python",
      "name": "python",
      "file_extension": ".py",
      "version": "3.5.4",
      "pygments_lexer": "ipython3",
      "codemirror_mode": {
        "version": 3,
        "name": "ipython"
      }
    }
  },
  "nbformat": 4,
  "nbformat_minor": 1
}