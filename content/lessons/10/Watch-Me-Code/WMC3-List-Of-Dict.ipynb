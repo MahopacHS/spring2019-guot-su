{
  "cells": [
    {
      "metadata": {},
      "cell_type": "markdown",
      "source": "# Watch Me Code 3: List of Dictionary\n"
    },
    {
      "metadata": {
        "trusted": false
      },
      "cell_type": "code",
      "source": "students = [ \n { 'Name':'bob','GPA':3.4, 'Ischool' : True },\n { 'Name':'sue','GPA':2.8, 'Ischool' : True },\n { 'Name':'kent','GPA':4.0, 'Ischool' : False }\n]\nprint(students)",
      "execution_count": 3,
      "outputs": [
        {
          "name": "stdout",
          "output_type": "stream",
          "text": "[{'Ischool': True, 'Name': 'bob', 'GPA': 3.4}, {'Ischool': True, 'Name': 'sue', 'GPA': 2.8}, {'Ischool': False, 'Name': 'kent', 'GPA': 4.0}]\n"
        }
      ]
    },
    {
      "metadata": {
        "trusted": false
      },
      "cell_type": "code",
      "source": "type(students)",
      "execution_count": 4,
      "outputs": [
        {
          "data": {
            "text/plain": "list"
          },
          "execution_count": 4,
          "metadata": {},
          "output_type": "execute_result"
        }
      ]
    },
    {
      "metadata": {
        "trusted": false
      },
      "cell_type": "code",
      "source": "students[-1]",
      "execution_count": 9,
      "outputs": [
        {
          "data": {
            "text/plain": "{'GPA': 4.0, 'Ischool': False, 'Name': 'kent'}"
          },
          "execution_count": 9,
          "metadata": {},
          "output_type": "execute_result"
        }
      ]
    },
    {
      "metadata": {
        "trusted": false
      },
      "cell_type": "code",
      "source": "type(students[-1])",
      "execution_count": 5,
      "outputs": [
        {
          "data": {
            "text/plain": "dict"
          },
          "execution_count": 5,
          "metadata": {},
          "output_type": "execute_result"
        }
      ]
    },
    {
      "metadata": {
        "trusted": false
      },
      "cell_type": "code",
      "source": "print(students[-1])",
      "execution_count": 6,
      "outputs": [
        {
          "name": "stdout",
          "output_type": "stream",
          "text": "{'Ischool': False, 'Name': 'kent', 'GPA': 4.0}\n"
        }
      ]
    },
    {
      "metadata": {
        "trusted": false
      },
      "cell_type": "code",
      "source": "# print names and GPA's of just ischool students:\nfor student in students:    # list \n    if student['Ischool']:  # == True is not necessary\n        print(student['Name'], student['GPA'])",
      "execution_count": 7,
      "outputs": [
        {
          "name": "stdout",
          "output_type": "stream",
          "text": "bob 3.4\nsue 2.8\n"
        }
      ]
    },
    {
      "metadata": {
        "trusted": false
      },
      "cell_type": "code",
      "source": "students = [\n    {\"Name\": \"bob\", \"age\": 18, \"grades\": [70, 80, 30]},\n    {\"Name\": \"Tom\", \"age\": 20, \"grades\": [70, 80, 30]},\n    {\"Name\": \"Jerry\", \"age\": 19, \"grades\": [70, 80, 30]}\n]\n\nfor student in students:\n    print(\"Grades for: \" + student[\"Name\"])\n    for grade in student[\"grades\"]:\n        print(grade)\n        \n\n\n\n",
      "execution_count": 7,
      "outputs": [
        {
          "name": "stdout",
          "output_type": "stream",
          "text": "Grades for: bob\n70\n80\n30\nGrades for: Tom\n70\n80\n30\nGrades for: Jerry\n70\n80\n30\n"
        }
      ]
    },
    {
      "metadata": {
        "collapsed": true,
        "trusted": false
      },
      "cell_type": "code",
      "source": "",
      "execution_count": null,
      "outputs": []
    }
  ],
  "metadata": {
    "anaconda-cloud": {},
    "kernelspec": {
      "name": "python3",
      "display_name": "Python 3",
      "language": "python"
    },
    "language_info": {
      "mimetype": "text/x-python",
      "nbconvert_exporter": "python",
      "name": "python",
      "pygments_lexer": "ipython3",
      "version": "3.5.4",
      "file_extension": ".py",
      "codemirror_mode": {
        "version": 3,
        "name": "ipython"
      }
    }
  },
  "nbformat": 4,
  "nbformat_minor": 1
}