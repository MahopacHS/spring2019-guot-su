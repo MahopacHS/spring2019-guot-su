{
  "cells": [
    {
      "metadata": {},
      "cell_type": "markdown",
      "source": "# Now You Code 1: Funny Names\n\nWrite a program to \n\n 1. read the file `NYC1-funnynames.txt` into a list, by completing the provided user-defined function\n 2. sort the list of names\n 3. print the list of names one name per line.\n\nSample Program Output:\n```\nAlma Frienzergon\nKent Belevit\nMitch Again\nOliver Stuffismisson\nSandi Shores\nSarah Bellum\nWillie Pas-D'course\nYolanda Ismyland\n```\n"
    },
    {
      "metadata": {},
      "cell_type": "markdown",
      "source": "## Step 1: Problem Analysis for `read_names` user-defined function\n\nInputs: None\n\nOutputs: a list of names\n\nAlgorithm (Steps in Program):\n    \n    \n\n"
    },
    {
      "metadata": {
        "trusted": true
      },
      "cell_type": "code",
      "source": "# Step 2: write function\n# this function reads from \"NYC-funnynames.txt\" places the names in a list.\n# program should return a list of names\ndef read_names():\n    names = []\n    filename=\"NYC1-funnynames.txt\"\n    with open(filename,'r') as n:\n        names.append(n)\n    return names",
      "execution_count": 9,
      "outputs": []
    },
    {
      "metadata": {
        "collapsed": true
      },
      "cell_type": "markdown",
      "source": "## Step 3: Problem Analysis for entire program\n\nInputs:\n\nOutputs:\n\nAlgorithm (Steps in Program):\n\n"
    },
    {
      "metadata": {
        "trusted": true
      },
      "cell_type": "code",
      "source": "names = []\nfilename=\"NYC1-funnynames.txt\"\nwith open(filename,'r') as n:\n    for line in n.readline():\n        names.append(n)\n\nprint(names)",
      "execution_count": 13,
      "outputs": [
        {
          "output_type": "stream",
          "text": "[<_io.TextIOWrapper name='NYC1-funnynames.txt' mode='r' encoding='UTF-8'>, <_io.TextIOWrapper name='NYC1-funnynames.txt' mode='r' encoding='UTF-8'>, <_io.TextIOWrapper name='NYC1-funnynames.txt' mode='r' encoding='UTF-8'>, <_io.TextIOWrapper name='NYC1-funnynames.txt' mode='r' encoding='UTF-8'>, <_io.TextIOWrapper name='NYC1-funnynames.txt' mode='r' encoding='UTF-8'>, <_io.TextIOWrapper name='NYC1-funnynames.txt' mode='r' encoding='UTF-8'>, <_io.TextIOWrapper name='NYC1-funnynames.txt' mode='r' encoding='UTF-8'>, <_io.TextIOWrapper name='NYC1-funnynames.txt' mode='r' encoding='UTF-8'>, <_io.TextIOWrapper name='NYC1-funnynames.txt' mode='r' encoding='UTF-8'>, <_io.TextIOWrapper name='NYC1-funnynames.txt' mode='r' encoding='UTF-8'>, <_io.TextIOWrapper name='NYC1-funnynames.txt' mode='r' encoding='UTF-8'>, <_io.TextIOWrapper name='NYC1-funnynames.txt' mode='r' encoding='UTF-8'>, <_io.TextIOWrapper name='NYC1-funnynames.txt' mode='r' encoding='UTF-8'>]\n",
          "name": "stdout"
        }
      ]
    },
    {
      "metadata": {},
      "cell_type": "markdown",
      "source": "## Step 5: Questions\n\n1. Does writing the `read_names` function clarify the intent of the main program in step 4? Why or why not?\n2. Find the `NYC-funnynames.txt` file in your `lessons/09` folder. Open the file and add the name `Euron Trouble` to the file, then save and close it. Re-run the program in step 4. Do you see the new name in the program output? Explain why or why not? \n"
    },
    {
      "metadata": {},
      "cell_type": "markdown",
      "source": "## Reminder of Evaluation Criteria\n\n1. What the problem attempted (analysis, code, and answered questions) ?\n2. What the problem analysis thought out? (does the program match the plan?)\n3. Does the code execute without syntax error?\n4. Does the code solve the intended problem?\n5. Is the code well written? (easy to understand, modular, and self-documenting, handles errors)\n"
    },
    {
      "metadata": {
        "collapsed": true,
        "trusted": false
      },
      "cell_type": "code",
      "source": "",
      "execution_count": null,
      "outputs": []
    }
  ],
  "metadata": {
    "anaconda-cloud": {},
    "kernelspec": {
      "name": "python3",
      "display_name": "Python 3",
      "language": "python"
    },
    "language_info": {
      "mimetype": "text/x-python",
      "nbconvert_exporter": "python",
      "name": "python",
      "pygments_lexer": "ipython3",
      "version": "3.5.4",
      "file_extension": ".py",
      "codemirror_mode": {
        "version": 3,
        "name": "ipython"
      }
    }
  },
  "nbformat": 4,
  "nbformat_minor": 1
}