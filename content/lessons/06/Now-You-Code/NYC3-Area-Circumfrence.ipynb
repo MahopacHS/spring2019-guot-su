{
  "cells": [
    {
      "metadata": {},
      "cell_type": "markdown",
      "source": "# Now You Code 3: Area and Circumfrence\n\nIn this assignment you are tasks with writing a program which inputs the radius of a circle, and outputs the circumfrence and area of that circle. Feel free to lookup the formulas online. \n\nWe will use the **Write - Refactor - Test - Rewrite** approach to complete the final solution which uses functions.\n\n**NOTE** `import math` then use `math.PI` to get the value of Pi https://en.wikipedia.org/wiki/Pi"
    },
    {
      "metadata": {},
      "cell_type": "markdown",
      "source": "## Step 1: Write\n\nHere's the algorihm of this program. Write the solution in Python.\n\n```\n    input radius as a float\n    calculate circle area\n    calcuate circle circumfrence\n    print radus, area, circumfrence\n```\n\nExample run:\n\n```\nEnter Radius: 1\nA circle with radius 1.000000 has area 3.141593 and circumfrence 6.283185\n```\n"
    },
    {
      "metadata": {
        "trusted": true,
        "collapsed": true
      },
      "cell_type": "code",
      "source": "import math\nhelp(math)",
      "execution_count": 1,
      "outputs": [
        {
          "output_type": "stream",
          "text": "Help on module math:\n\nNAME\n    math\n\nMODULE REFERENCE\n    https://docs.python.org/3.5/library/math\n    \n    The following documentation is automatically generated from the Python\n    source files.  It may be incomplete, incorrect or include features that\n    are considered implementation detail and may vary between Python\n    implementations.  When in doubt, consult the module reference at the\n    location listed above.\n\nDESCRIPTION\n    This module is always available.  It provides access to the\n    mathematical functions defined by the C standard.\n\nFUNCTIONS\n    acos(...)\n        acos(x)\n        \n        Return the arc cosine (measured in radians) of x.\n    \n    acosh(...)\n        acosh(x)\n        \n        Return the inverse hyperbolic cosine of x.\n    \n    asin(...)\n        asin(x)\n        \n        Return the arc sine (measured in radians) of x.\n    \n    asinh(...)\n        asinh(x)\n        \n        Return the inverse hyperbolic sine of x.\n    \n    atan(...)\n        atan(x)\n        \n        Return the arc tangent (measured in radians) of x.\n    \n    atan2(...)\n        atan2(y, x)\n        \n        Return the arc tangent (measured in radians) of y/x.\n        Unlike atan(y/x), the signs of both x and y are considered.\n    \n    atanh(...)\n        atanh(x)\n        \n        Return the inverse hyperbolic tangent of x.\n    \n    ceil(...)\n        ceil(x)\n        \n        Return the ceiling of x as an Integral.\n        This is the smallest integer >= x.\n    \n    copysign(...)\n        copysign(x, y)\n        \n        Return a float with the magnitude (absolute value) of x but the sign \n        of y. On platforms that support signed zeros, copysign(1.0, -0.0) \n        returns -1.0.\n    \n    cos(...)\n        cos(x)\n        \n        Return the cosine of x (measured in radians).\n    \n    cosh(...)\n        cosh(x)\n        \n        Return the hyperbolic cosine of x.\n    \n    degrees(...)\n        degrees(x)\n        \n        Convert angle x from radians to degrees.\n    \n    erf(...)\n        erf(x)\n        \n        Error function at x.\n    \n    erfc(...)\n        erfc(x)\n        \n        Complementary error function at x.\n    \n    exp(...)\n        exp(x)\n        \n        Return e raised to the power of x.\n    \n    expm1(...)\n        expm1(x)\n        \n        Return exp(x)-1.\n        This function avoids the loss of precision involved in the direct evaluation of exp(x)-1 for small x.\n    \n    fabs(...)\n        fabs(x)\n        \n        Return the absolute value of the float x.\n    \n    factorial(...)\n        factorial(x) -> Integral\n        \n        Find x!. Raise a ValueError if x is negative or non-integral.\n    \n    floor(...)\n        floor(x)\n        \n        Return the floor of x as an Integral.\n        This is the largest integer <= x.\n    \n    fmod(...)\n        fmod(x, y)\n        \n        Return fmod(x, y), according to platform C.  x % y may differ.\n    \n    frexp(...)\n        frexp(x)\n        \n        Return the mantissa and exponent of x, as pair (m, e).\n        m is a float and e is an int, such that x = m * 2.**e.\n        If x is 0, m and e are both 0.  Else 0.5 <= abs(m) < 1.0.\n    \n    fsum(...)\n        fsum(iterable)\n        \n        Return an accurate floating point sum of values in the iterable.\n        Assumes IEEE-754 floating point arithmetic.\n    \n    gamma(...)\n        gamma(x)\n        \n        Gamma function at x.\n    \n    gcd(...)\n        gcd(x, y) -> int\n        greatest common divisor of x and y\n    \n    hypot(...)\n        hypot(x, y)\n        \n        Return the Euclidean distance, sqrt(x*x + y*y).\n    \n    isclose(...)\n        isclose(a, b, *, rel_tol=1e-09, abs_tol=0.0) -> bool\n        \n        Determine whether two floating point numbers are close in value.\n        \n           rel_tol\n               maximum difference for being considered \"close\", relative to the\n               magnitude of the input values\n            abs_tol\n               maximum difference for being considered \"close\", regardless of the\n               magnitude of the input values\n        \n        Return True if a is close in value to b, and False otherwise.\n        \n        For the values to be considered close, the difference between them\n        must be smaller than at least one of the tolerances.\n        \n        -inf, inf and NaN behave similarly to the IEEE 754 Standard.  That\n        is, NaN is not close to anything, even itself.  inf and -inf are\n        only close to themselves.\n    \n    isfinite(...)\n        isfinite(x) -> bool\n        \n        Return True if x is neither an infinity nor a NaN, and False otherwise.\n    \n    isinf(...)\n        isinf(x) -> bool\n        \n        Return True if x is a positive or negative infinity, and False otherwise.\n    \n    isnan(...)\n        isnan(x) -> bool\n        \n        Return True if x is a NaN (not a number), and False otherwise.\n    \n    ldexp(...)\n        ldexp(x, i)\n        \n        Return x * (2**i).\n    \n    lgamma(...)\n        lgamma(x)\n        \n        Natural logarithm of absolute value of Gamma function at x.\n    \n    log(...)\n        log(x[, base])\n        \n        Return the logarithm of x to the given base.\n        If the base not specified, returns the natural logarithm (base e) of x.\n    \n    log10(...)\n        log10(x)\n        \n        Return the base 10 logarithm of x.\n    \n    log1p(...)\n        log1p(x)\n        \n        Return the natural logarithm of 1+x (base e).\n        The result is computed in a way which is accurate for x near zero.\n    \n    log2(...)\n        log2(x)\n        \n        Return the base 2 logarithm of x.\n    \n    modf(...)\n        modf(x)\n        \n        Return the fractional and integer parts of x.  Both results carry the sign\n        of x and are floats.\n    \n    pow(...)\n        pow(x, y)\n        \n        Return x**y (x to the power of y).\n    \n    radians(...)\n        radians(x)\n        \n        Convert angle x from degrees to radians.\n    \n    sin(...)\n        sin(x)\n        \n        Return the sine of x (measured in radians).\n    \n    sinh(...)\n        sinh(x)\n        \n        Return the hyperbolic sine of x.\n    \n    sqrt(...)\n        sqrt(x)\n        \n        Return the square root of x.\n    \n    tan(...)\n        tan(x)\n        \n        Return the tangent of x (measured in radians).\n    \n    tanh(...)\n        tanh(x)\n        \n        Return the hyperbolic tangent of x.\n    \n    trunc(...)\n        trunc(x:Real) -> Integral\n        \n        Truncates x to the nearest Integral toward 0. Uses the __trunc__ magic method.\n\nDATA\n    e = 2.718281828459045\n    inf = inf\n    nan = nan\n    pi = 3.141592653589793\n\nFILE\n    /home/nbuser/anaconda3_420/lib/python3.5/lib-dynload/math.cpython-35m-x86_64-linux-gnu.so\n\n\n",
          "name": "stdout"
        }
      ]
    },
    {
      "metadata": {
        "trusted": true
      },
      "cell_type": "code",
      "source": "pi = 3.141592653589793\nr=float(input(\"enter radius:\"))\nA=pi*r*r\nC=2*pi*r\nprint(\"the area is\",A)\nprint(\"the circumference is\",C)",
      "execution_count": 13,
      "outputs": [
        {
          "output_type": "stream",
          "name": "stdout",
          "text": "enter radius:1\nthe area is 3.141592653589793\nthe circumference is 6.283185307179586\n"
        }
      ]
    },
    {
      "metadata": {},
      "cell_type": "markdown",
      "source": "## Step 2: Refactor\n\nNext we need to refactor the `area` and `circumfrence` logic into functions. \n\n- `CircleArea()` has one input a `radius` and returns the `area` as output.\n- `CircleCircumfrence()` has one input a `radius` and returns the `circumfrence` as output. \n"
    },
    {
      "metadata": {
        "trusted": true
      },
      "cell_type": "code",
      "source": "## Step 2: Refactor into two functions def CircleArea... and def CircleCircumfrence\ndef circlearea(val):\n    pi = 3.141592653589793\n    A=pi*r*r\n    return A\n    \ndef circlecircumfrence(val):\n    pi=3.141592653589793\n    C=2*pi*r\n    return C\n",
      "execution_count": 1,
      "outputs": []
    },
    {
      "metadata": {},
      "cell_type": "markdown",
      "source": "## Step 3: Test \n\nTime to test. Write two tests, once for each function\n```\nWHEN radius=1 We EXPECT CircleArea(radius) to return 3.141593 \nWHEN radius=1 We EXPECT CircleCircumfrence(radius) to return 6.283185\n```\n\nMake sure you call the function to get the actual, just like in the coding lab. \n\nNOTE: If its accurate to 4 decimal places, that's sufficient. The test values might be different because of how the \"%f\" format code works."
    },
    {
      "metadata": {
        "trusted": true
      },
      "cell_type": "code",
      "source": "try:\n    r=float(input(\"enter radius:\"))\n    print(circlearea(r))\n    print(circlecircumfrence(r))\nexcept:\n    print(\"there was an error\")\n\n",
      "execution_count": 8,
      "outputs": [
        {
          "output_type": "stream",
          "name": "stdout",
          "text": "enter radius:d\nthere was an error\n"
        }
      ]
    },
    {
      "metadata": {},
      "cell_type": "markdown",
      "source": "## Step 4: rewrite the program to use the function\n\nFinally re-write the original program, but call the functions. \n"
    },
    {
      "metadata": {
        "trusted": false
      },
      "cell_type": "code",
      "source": "try:\n    r=float(input(\"enter radius:\"))\n    print(circlearea(r))\n    print(circlecircumfrence(r))\nexcept:\n    print(\"there was an error\")\n",
      "execution_count": 11,
      "outputs": []
    },
    {
      "metadata": {},
      "cell_type": "markdown",
      "source": "## Step 6: Questions\n\n1. Provide 3 advantages for programming a user function in your code like `CircleArea`  or `CircleCircumfrence`\n\n1)it can make your code smaller\n2)makes it easier to reuse a section of code\n3)it is easier to fix your program\n2. If we want to guarantee our `CircleCircumfrence` function is 100% accurate, what is the minimum number of test cases must we provide in step 3?\n5 cases"
    },
    {
      "metadata": {},
      "cell_type": "markdown",
      "source": "## Reminder of Evaluation Criteria\n\n1. What the problem attempted (analysis, code, and answered questions) ?\n2. What the problem analysis thought out? (does the program match the plan?)\n3. Does the code execute without syntax error?\n4. Does the code solve the intended problem?\n5. Is the code well written? (easy to understand, modular, and self-documenting, handles errors)\n"
    },
    {
      "metadata": {
        "trusted": true
      },
      "cell_type": "code",
      "source": "circlecircumfrence(r)\ncirclearea(r)\nprint(WHEN radius=1 , 'We EXPECT' ,(r),'to return 3.141593')\nprint(WHEN, radius=1 ,'We EXPECT' ,(r), 'to return 6.283185')",
      "execution_count": 5,
      "outputs": [
        {
          "output_type": "error",
          "ename": "SyntaxError",
          "evalue": "positional argument follows keyword argument (<ipython-input-5-37cbd0503c90>, line 3)",
          "traceback": [
            "\u001b[0;36m  File \u001b[0;32m\"<ipython-input-5-37cbd0503c90>\"\u001b[0;36m, line \u001b[0;32m3\u001b[0m\n\u001b[0;31m    print('WHEN', radius=1 , 'We EXPECT' ,(r),'to return 3.141593')\u001b[0m\n\u001b[0m                            ^\u001b[0m\n\u001b[0;31mSyntaxError\u001b[0m\u001b[0;31m:\u001b[0m positional argument follows keyword argument\n"
          ]
        }
      ]
    },
    {
      "metadata": {
        "trusted": true
      },
      "cell_type": "code",
      "source": "",
      "execution_count": null,
      "outputs": []
    }
  ],
  "metadata": {
    "anaconda-cloud": {},
    "kernelspec": {
      "name": "python3",
      "display_name": "Python 3",
      "language": "python"
    },
    "language_info": {
      "mimetype": "text/x-python",
      "nbconvert_exporter": "python",
      "name": "python",
      "file_extension": ".py",
      "version": "3.5.4",
      "pygments_lexer": "ipython3",
      "codemirror_mode": {
        "version": 3,
        "name": "ipython"
      }
    }
  },
  "nbformat": 4,
  "nbformat_minor": 1
}