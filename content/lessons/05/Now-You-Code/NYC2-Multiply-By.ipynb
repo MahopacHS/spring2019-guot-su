{
  "cells": [
    {
      "metadata": {},
      "cell_type": "markdown",
      "source": "# Now You Code 2: Multiply By\n\nWrite a program to ask for a number to multiply by and then lists the multiplication table for that number from 1 to 10. This process will repeat until you enter quit as which point the program will exit.\n\nWow. Seems complicated! We'll use technique called problem simplification to make this problem a little easier to solve.\n\nFirst we'll write a complete program to solve *part* of the problem, then we will take our new level of understanding to solve the *entire* problem.\n\n## Start with Sub-Problem 1\n\nLet's write a program to simply input a number and then uses a loop to print out the multiplication table up to 10  for that number. \n\nFor example, when you input `5`:\n\n```\nEnter number to multiply by: 5\n1 x 5 = 5\n2 x 5 = 10\n3 x 5 = 15\n4 x 5 = 20\n5 x 5 = 25\n6 x 5 = 30\n7 x 5 = 35\n8 x 5 = 40\n9 x 5 = 45\n10 x 5 = 50\n```\n"
    },
    {
      "metadata": {
        "collapsed": true
      },
      "cell_type": "markdown",
      "source": "## Step 1: Problem Analysis for Sub-Problem 1\n\nInputs:\n\nOutputs:\n\nAlgorithm (Steps in Program):\n\n\n"
    },
    {
      "metadata": {
        "trusted": true
      },
      "cell_type": "code",
      "source": "# Step 2: write code for sub-problem 1\nmulti=input(\"enter a number to multiply by:\")\nfor i in range(0,13):\n    v=i*int(multi)\n    print(i,'x',multi,'=',v)",
      "execution_count": 21,
      "outputs": [
        {
          "output_type": "stream",
          "name": "stdout",
          "text": "enter a number to multiply by:6\n0 x 6 = 0\n1 x 6 = 6\n2 x 6 = 12\n3 x 6 = 18\n4 x 6 = 24\n5 x 6 = 30\n6 x 6 = 36\n7 x 6 = 42\n8 x 6 = 48\n9 x 6 = 54\n10 x 6 = 60\n11 x 6 = 66\n12 x 6 = 72\n"
        }
      ]
    },
    {
      "metadata": {},
      "cell_type": "markdown",
      "source": "# Full Problem \n\nNow that we've got part of the problem figured out, let's solve the entire problem. The program should keep asking for numbers and then print out multiplcation tables until you enter `quit`. Here's an example:\n\nExample Run:\n\n```\nEnter number to multiply by or type 'quit': 10\n1 x 10 = 10\n2 x 10 = 20\n3 x 10 = 30\n4 x 10 = 40\n5 x 10 = 50\n6 x 10 = 60\n7 x 10 = 70\n8 x 10 = 80\n9 x 10 = 90\n10 x 10 = 100\nEnter number to multiply by or type 'quit': 5\n1 x 5 = 5\n2 x 5 = 10\n3 x 5 = 15\n4 x 5 = 20\n5 x 5 = 25\n6 x 5 = 30\n7 x 5 = 35\n8 x 5 = 40\n9 x 5 = 45\n10 x 5 = 50\nEnter number to multiply by or type 'quit': quit\n```\n\n**NOTE:** you need another loop complete this program. Take the code you wrote in the first part and repeat it in another loop until you type quit. "
    },
    {
      "metadata": {
        "collapsed": true
      },
      "cell_type": "markdown",
      "source": "## Step 3: Problem Analysis for Full Problem\n\nInputs:\n\nOutputs:\n\nAlgorithm (Steps in Program):"
    },
    {
      "metadata": {
        "trusted": true
      },
      "cell_type": "code",
      "source": "# Step 4: Write code for full problem\nmulti=input(\"enter a number to multiply by:\")\nwhile multi != \"quit\":\n    if multi.isdigit():\n        for i in range(0,13):\n            v=i*int(multi)\n            print(i,'x',multi,'=',v)\n    else:\n        print(\"this is not a number\")\n    multi=input(\"enter another value or quit: \")",
      "execution_count": null,
      "outputs": [
        {
          "output_type": "stream",
          "name": "stdout",
          "text": "enter a number to multiply by:4\n0 x 4 = 0\n1 x 4 = 4\n2 x 4 = 8\n3 x 4 = 12\n4 x 4 = 16\n5 x 4 = 20\n6 x 4 = 24\n7 x 4 = 28\n8 x 4 = 32\n9 x 4 = 36\n10 x 4 = 40\n11 x 4 = 44\n12 x 4 = 48\nenter another value or quit: a\nthis is not a number\n"
        }
      ]
    },
    {
      "metadata": {},
      "cell_type": "markdown",
      "source": "## Step 3: Questions\n\n1. What is the loop control variable for the first (outer) loop?\nmulti\n2. What is the loop control variable for the second (inner) loop?\ni\n3. Provide at least one way this program can be improved, or make more flexible by introducing more inputs?\nletting the user determine the range"
    },
    {
      "metadata": {},
      "cell_type": "markdown",
      "source": "## Reminder of Evaluation Criteria\n\n1. What the problem attempted (analysis, code, and answered questions) ?\n2. What the problem analysis thought out? (does the program match the plan?)\n3. Does the code execute without syntax error?\n4. Does the code solve the intended problem?\n5. Is the code well written? (easy to understand, modular, and self-documenting, handles errors)\n"
    },
    {
      "metadata": {
        "collapsed": true,
        "trusted": false
      },
      "cell_type": "code",
      "source": "",
      "execution_count": null,
      "outputs": []
    }
  ],
  "metadata": {
    "anaconda-cloud": {},
    "kernelspec": {
      "name": "python3",
      "display_name": "Python 3",
      "language": "python"
    },
    "language_info": {
      "mimetype": "text/x-python",
      "nbconvert_exporter": "python",
      "name": "python",
      "file_extension": ".py",
      "version": "3.5.4",
      "pygments_lexer": "ipython3",
      "codemirror_mode": {
        "version": 3,
        "name": "ipython"
      }
    }
  },
  "nbformat": 4,
  "nbformat_minor": 1
}