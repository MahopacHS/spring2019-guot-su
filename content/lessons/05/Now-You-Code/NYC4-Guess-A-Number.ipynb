{
  "cells": [
    {
      "metadata": {},
      "cell_type": "markdown",
      "source": "# Now You Code 4: Guess A Number\n\nWrite a program to play the classic \"Guess a number\" game.\n\nIn this game the computer selects a random number between 1 and 10.\nIt's your job to guess the number. Whenever you guess, the computer will\ngive you a hint of higher or lower. This process repeats until you guess\nthe number, after which the computer reports the number of guesses it took you.\n\nFor Example:\n\nI'm thinking of a number between 1 and 10...\nYour guess: 5\nToo low. Guess higher.\nYour guess: 7\nToo high. Guess lower.\nYour guess: 6\nYou guessed it in 3 tries.\n\nYour loop should continue until your input guess equals the\ncomputer generated random number.\n\n### How do you make Python generate a random number? "
    },
    {
      "metadata": {
        "trusted": false
      },
      "cell_type": "code",
      "source": "# Sample code which demostrates how to generate a number between 1 and 10\nimport random \nnumber = random.randint(1,10)\nprint(number)",
      "execution_count": 20,
      "outputs": [
        {
          "name": "stdout",
          "output_type": "stream",
          "text": "4\n"
        }
      ]
    },
    {
      "metadata": {},
      "cell_type": "markdown",
      "source": "Run the cell above a couple of times. Notice how each time you execute the code, it comes up with a different number. \n\nHere's a breakdown of the code\n\n```\nline 1 imports the random module\nline 2 randomly selects an integer between 1 and 10\nline 3 prints the number\n```\n\nNow that you understand how to generate a random number, try to design then write code for the program. The first step in your program should be to generate the random number."
    },
    {
      "metadata": {
        "collapsed": true
      },
      "cell_type": "markdown",
      "source": "## Step 1: Problem Analysis \n\nInputs:\n\nOutputs:\n\nAlgorithm (Steps in Program):\n\n\n"
    },
    {
      "metadata": {
        "trusted": true
      },
      "cell_type": "code",
      "source": "# Step 2: write code for program\nimport random \ncpu = random.randint(1,10)\nuser=input(\"guess the number:\")\nc=1\ntry:\n    while int(user)!=cpu:\n        c=c+1\n        if int(user)>cpu:\n            print(\"estimate is too high\")\n        else:\n            int(user)<cpu\n            print(\"estimate is too low\")\n        user=input(\"enter another value:\")\n    print(\"you guessed the number congrats I guess\")\n    print(\"you guessed the number in\",c,\"tries\")\nexcept:\n    print(\"error\")",
      "execution_count": 7,
      "outputs": [
        {
          "output_type": "stream",
          "name": "stdout",
          "text": "guess the number:1\nestimate is too low\nenter another value:10\nyou guessed the number congrats I guess\nyou guessed the number in 2 tries\n"
        }
      ]
    },
    {
      "metadata": {},
      "cell_type": "markdown",
      "source": "### Step 3: Questions\n\n1. Which loop did you use to solve the problem? What is a definite or indefinite loop?\nindefinite loop\n2. Modify this program to allow you to guess a number between 1 and 100. How much of your code did you need to change to make this work? \nonly one line\n3. This program is a good example of a difficult problem to conceptualize which has a simple solution when you look at actual lines of code. I assume you did not write this in a single try, so explain where you got stuck and describe your approach to overcoming it.\ninfinite loop in while statement\nI needed to ask the user for an input to stop the infinite loop"
    },
    {
      "metadata": {},
      "cell_type": "markdown",
      "source": "## Reminder of Evaluation Criteria\n\n1. What the problem attempted (analysis, code, and answered questions) ?\n2. What the problem analysis thought out? (does the program match the plan?)\n3. Does the code execute without syntax error?\n4. Does the code solve the intended problem?\n5. Is the code well written? (easy to understand, modular, and self-documenting, handles errors)\n"
    },
    {
      "metadata": {
        "trusted": true
      },
      "cell_type": "code",
      "source": "import random \ncpu = random.randint(1,10)\nuser=input(\"guess the number:\")\nc=0\nwhile int(user)!=cpu:\n    c=c+1\n    if int(user)>cpu:\n        print(\"estimate is too high\")\n    else:\n        int(user)<cpu\n        print(\"estimate is too low\")\n    user=input(\"enter another value:\")\nprint(\"you guessed the number congrats I guess\")\nprint(\"you guessed the number in\",c,\"tries\")",
      "execution_count": 2,
      "outputs": [
        {
          "output_type": "stream",
          "name": "stdout",
          "text": "guess the number:1\nestimate is too low\nenter another value:5\nestimate is too low\nenter another value:8\nyou guessed the number congrats I guess\nyou guessed the number in 2 tries\n"
        }
      ]
    },
    {
      "metadata": {
        "trusted": true
      },
      "cell_type": "code",
      "source": "",
      "execution_count": null,
      "outputs": []
    }
  ],
  "metadata": {
    "anaconda-cloud": {},
    "kernelspec": {
      "name": "python3",
      "display_name": "Python 3",
      "language": "python"
    },
    "language_info": {
      "mimetype": "text/x-python",
      "nbconvert_exporter": "python",
      "name": "python",
      "file_extension": ".py",
      "version": "3.5.4",
      "pygments_lexer": "ipython3",
      "codemirror_mode": {
        "version": 3,
        "name": "ipython"
      }
    }
  },
  "nbformat": 4,
  "nbformat_minor": 1
}